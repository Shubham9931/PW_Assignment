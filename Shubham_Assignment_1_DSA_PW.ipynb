{
 "cells": [
  {
   "cell_type": "markdown",
   "id": "ecc9d445-2e9f-499f-933f-2ff3d939efd7",
   "metadata": {},
   "source": [
    " Q1)  Write a code to reverse a string"
   ]
  },
  {
   "cell_type": "code",
   "execution_count": 2,
   "id": "37e4148b-465c-4d12-9aa8-9cd8394d4638",
   "metadata": {},
   "outputs": [
    {
     "name": "stdin",
     "output_type": "stream",
     "text": [
      "Enter the string aabbbaa\n"
     ]
    },
    {
     "name": "stdout",
     "output_type": "stream",
     "text": [
      "aabbbaa\n"
     ]
    }
   ],
   "source": [
    "a=input(\"Enter the string\")\n",
    "print(a[-1::-1])\n"
   ]
  },
  {
   "cell_type": "markdown",
   "id": "df1634a8-f3df-4ee4-9a34-e67c1ebf7cff",
   "metadata": {},
   "source": [
    "Q2) Write a code to count the number of vowels in a string"
   ]
  },
  {
   "cell_type": "code",
   "execution_count": 21,
   "id": "8d9b93ed-bfb3-4572-bae2-ddbf97ff23be",
   "metadata": {},
   "outputs": [
    {
     "name": "stdin",
     "output_type": "stream",
     "text": [
      "Enter the string aaaaaaaaaa\n"
     ]
    },
    {
     "name": "stdout",
     "output_type": "stream",
     "text": [
      "1\n"
     ]
    }
   ],
   "source": [
    "a=input(\"Enter the string\")\n",
    "s=set(a)\n",
    "# print(s)\n",
    "count1=0\n",
    "count=\"aeiou\"\n",
    "for i in s:\n",
    "    if i in count:\n",
    "        count1=count1+1\n",
    "print(count1)\n",
    "\n"
   ]
  },
  {
   "cell_type": "markdown",
   "id": "1187e0bf-5620-4cb7-bb89-bfe8b47b4628",
   "metadata": {},
   "source": [
    "Q3) Write a code to check if a given string is a palindrome or not"
   ]
  },
  {
   "cell_type": "code",
   "execution_count": 3,
   "id": "2ff9dcd2-76b7-496e-870d-71f0c355b6c4",
   "metadata": {},
   "outputs": [
    {
     "name": "stdin",
     "output_type": "stream",
     "text": [
      "Enter the string: 121\n"
     ]
    },
    {
     "name": "stdout",
     "output_type": "stream",
     "text": [
      "It is a Palindrome:\n"
     ]
    }
   ],
   "source": [
    "a=input(\"Enter the string:\")\n",
    "b=a[-1::-1]\n",
    "if a==b:\n",
    "    print(\"It is a Palindrome:\")\n",
    "else:\n",
    "    print(\"Not a Palindrome :\")"
   ]
  },
  {
   "cell_type": "markdown",
   "id": "a83b04d0-3c43-4a74-9648-608042e66897",
   "metadata": {},
   "source": [
    "Q4)Write a code to check if two given strings are anagrams of each other"
   ]
  },
  {
   "cell_type": "code",
   "execution_count": 8,
   "id": "9f094a45-9ea1-4834-ab97-ca07c5a756c7",
   "metadata": {},
   "outputs": [
    {
     "name": "stdin",
     "output_type": "stream",
     "text": [
      "Enter the string 1: radha krishna\n",
      "Enter the string 2: radha krishna\n"
     ]
    },
    {
     "name": "stdout",
     "output_type": "stream",
     "text": [
      "It is an Anagrams\n"
     ]
    }
   ],
   "source": [
    "a=input(\"Enter the string 1:\")\n",
    "b=input(\"Enter the string 2:\")\n",
    "if len(a)!=len(b):\n",
    "    print(\"Not an Anagrams\")\n",
    "else:\n",
    "    if sorted(a)==sorted(b):\n",
    "        print(\"It is an Anagrams\")\n",
    "    else:\n",
    "        print(\"Not an Anagrams \")"
   ]
  },
  {
   "cell_type": "markdown",
   "id": "42978388-deb2-4a06-96f8-c883ab912f7a",
   "metadata": {},
   "source": [
    "Q5) Write a code to find all occurrences of a given substring within another string  "
   ]
  },
  {
   "cell_type": "code",
   "execution_count": 13,
   "id": "62d6b6a6-fee2-4cae-be61-86b6f41a3753",
   "metadata": {},
   "outputs": [
    {
     "name": "stdin",
     "output_type": "stream",
     "text": [
      "Enter the string1 aaaaaaaaaaa\n",
      "Enter the string2 a\n"
     ]
    },
    {
     "name": "stdout",
     "output_type": "stream",
     "text": [
      "11\n"
     ]
    }
   ],
   "source": [
    "a=input(\"Enter the string1\")\n",
    "b=input(\"Enter the string2\")\n",
    "count1=0\n",
    "count1=a.count(b)\n",
    "print(count1)"
   ]
  },
  {
   "cell_type": "markdown",
   "id": "b1c2fc07-995f-4083-9243-4be89465a945",
   "metadata": {},
   "source": [
    "Q6) Write a code to perform basic string compression using the counts of repeated characters"
   ]
  },
  {
   "cell_type": "code",
   "execution_count": 2,
   "id": "1043179f-0b98-4247-ab11-b13a40b18bd8",
   "metadata": {},
   "outputs": [
    {
     "name": "stdin",
     "output_type": "stream",
     "text": [
      "Enter the string:  aaaaaaaaaaaaaaa\n"
     ]
    },
    {
     "name": "stdout",
     "output_type": "stream",
     "text": [
      "Compressed string: a15\n"
     ]
    }
   ],
   "source": [
    "def compress_string(s):\n",
    "    if not s:\n",
    "        return \"\"\n",
    "\n",
    "    compressed = []\n",
    "    count = 1\n",
    "    previous_char = s[0]\n",
    "\n",
    "    for char in s[1:]:\n",
    "        if char == previous_char:\n",
    "            count += 1\n",
    "        else:\n",
    "            compressed.append(f\"{previous_char}{count}\")\n",
    "            previous_char = char\n",
    "            count = 1\n",
    "\n",
    "    compressed.append(f\"{previous_char}{count}\")  # append the last set of characters\n",
    "\n",
    "    compressed_string = ''.join(compressed)\n",
    "\n",
    "    # Return the original string if compression doesn't reduce the size\n",
    "    return compressed_string if len(compressed_string) < len(s) else s\n",
    "\n",
    "a = input(\"Enter the string: \")\n",
    "compressed_a = compress_string(a)\n",
    "print(\"Compressed string:\", compressed_a)\n",
    "\n",
    "    \n"
   ]
  },
  {
   "cell_type": "markdown",
   "id": "a35d3cf5-0221-49cb-8926-ea7661c261e4",
   "metadata": {},
   "source": [
    " Q7)Write a code to determine if a string has all unique characters"
   ]
  },
  {
   "cell_type": "code",
   "execution_count": 8,
   "id": "35995e52-398f-4620-a8c6-ee2d8a392e9c",
   "metadata": {},
   "outputs": [
    {
     "name": "stdin",
     "output_type": "stream",
     "text": [
      "Enter the string abcdefghijklmnopqrstuvwxyz\n"
     ]
    },
    {
     "name": "stdout",
     "output_type": "stream",
     "text": [
      "Counter({'a': 1, 'b': 1, 'c': 1, 'd': 1, 'e': 1, 'f': 1, 'g': 1, 'h': 1, 'i': 1, 'j': 1, 'k': 1, 'l': 1, 'm': 1, 'n': 1, 'o': 1, 'p': 1, 'q': 1, 'r': 1, 's': 1, 't': 1, 'u': 1, 'v': 1, 'w': 1, 'x': 1, 'y': 1, 'z': 1})\n",
      "String has all Unique characters\n"
     ]
    }
   ],
   "source": [
    "from collections  import Counter\n",
    "a=input(\"Enter the string\")\n",
    "count=Counter(a)\n",
    "print(count)\n",
    "ans=True\n",
    "\n",
    "for i in count:\n",
    "    if count[i]>1:\n",
    "        ans=False\n",
    "        break\n",
    "    else:\n",
    "        ans=True\n",
    "if ans:\n",
    "    print(\"String has all Unique characters\")\n",
    "else:\n",
    "    print(\"String doesnot have all unique characters\")"
   ]
  },
  {
   "cell_type": "markdown",
   "id": "c77cacae-c958-4903-b9e2-92a066715dda",
   "metadata": {},
   "source": [
    "Q8) Write a code to convert a given string to uppercase or lowercase"
   ]
  },
  {
   "cell_type": "code",
   "execution_count": 10,
   "id": "003715aa-a3bf-4856-8245-a4e6aa3021d7",
   "metadata": {},
   "outputs": [
    {
     "name": "stdin",
     "output_type": "stream",
     "text": [
      "Enter the String : SHubham\n"
     ]
    },
    {
     "name": "stdout",
     "output_type": "stream",
     "text": [
      "SHUBHAM\n",
      "shubham\n"
     ]
    }
   ],
   "source": [
    "a=input(\"Enter the String :\")\n",
    "print(a.upper())\n",
    "print(a.lower())\n"
   ]
  },
  {
   "cell_type": "markdown",
   "id": "c756e5db-bff9-4d48-aa70-94c55faa32d3",
   "metadata": {},
   "source": [
    " Q9) Write a code to count the number of words in a string"
   ]
  },
  {
   "cell_type": "code",
   "execution_count": 16,
   "id": "65e331b5-be63-4adc-941e-f8356fdb7104",
   "metadata": {},
   "outputs": [
    {
     "name": "stdin",
     "output_type": "stream",
     "text": [
      "Enter the string: shubham kuiam sdinfikod\n"
     ]
    },
    {
     "name": "stdout",
     "output_type": "stream",
     "text": [
      "3\n"
     ]
    }
   ],
   "source": [
    "a=input(\"Enter the string:\")\n",
    "count=0\n",
    "word=\"\"\n",
    "for i in a:\n",
    "    if i!=\" \":\n",
    "        word=word+i\n",
    "    else:\n",
    "        count+=1\n",
    "        word=\"\"\n",
    "      \n",
    "    \n",
    "    \n",
    "if word:\n",
    "    count+=1  \n",
    "\n",
    "print(count)\n",
    "   \n",
    "    \n",
    "    "
   ]
  },
  {
   "cell_type": "markdown",
   "id": "68bdcfed-eae2-4468-af26-9e2e81ee3439",
   "metadata": {},
   "source": [
    "Q10)Write a code to concatenate two strings without using the + operator"
   ]
  },
  {
   "cell_type": "code",
   "execution_count": 19,
   "id": "b0902e19-57b5-463e-b417-4e1900e1fa83",
   "metadata": {},
   "outputs": [
    {
     "name": "stdin",
     "output_type": "stream",
     "text": [
      "Enter the first string fcdg\n",
      "Enter the second string hygfyh\n"
     ]
    },
    {
     "name": "stdout",
     "output_type": "stream",
     "text": [
      "fcdg hygfyh\n"
     ]
    }
   ],
   "source": [
    "a=input(\"Enter the first string\")\n",
    "b=input(\"Enter the second string\")\n",
    "c= \" \".join([a,b])\n",
    "print(c)"
   ]
  },
  {
   "cell_type": "code",
   "execution_count": null,
   "id": "7751b436-e3d5-4844-a3a5-b0167096c783",
   "metadata": {},
   "outputs": [],
   "source": [
    " Q11) Write a code to remove all occurrences of a specific element from a list"
   ]
  },
  {
   "cell_type": "code",
   "execution_count": 27,
   "id": "1388c0e9-1d42-4585-8b5f-3c7f26ba700f",
   "metadata": {},
   "outputs": [
    {
     "name": "stdout",
     "output_type": "stream",
     "text": [
      "Counter({1: 2, 2: 2, 3: 2, 'Shubham': 2, 10: 1, 11: 1, 12: 1, 13: 1, 14: 1})\n",
      "[10, 11, 12, 13, 14]\n"
     ]
    }
   ],
   "source": [
    "l=[1,2,3,3,2,1,10,11,12,13,14,\"Shubham\",\"Shubham\"]\n",
    "from collections import Counter\n",
    "count=Counter(l)\n",
    "print(count)\n",
    "l1=[]\n",
    "\n",
    "for i in count:\n",
    "    if count[i]<2:\n",
    "        l1.append(i)\n",
    "print(l1)"
   ]
  },
  {
   "cell_type": "markdown",
   "id": "0cd3bdb2-586e-4e91-875d-df80cf972d0c",
   "metadata": {},
   "source": [
    "Q12) Implement a code to find the second largest number in a given list of integers"
   ]
  },
  {
   "cell_type": "code",
   "execution_count": 11,
   "id": "e24b0e50-75bd-4942-9aad-437386cf5b34",
   "metadata": {},
   "outputs": [
    {
     "name": "stdout",
     "output_type": "stream",
     "text": [
      "[1, 2, 33, 34, 232, 323, 2232, 3243]\n",
      "Second Largest Number in the List is :2232\n"
     ]
    }
   ],
   "source": [
    " l=[1,2,34,2,3243,232,323,2232,33]\n",
    "s=set(l)\n",
    "a=list(s)\n",
    "a.sort()\n",
    "print(a)\n",
    "print(f\"Second Largest Number in the List is :{a[-2]}\")"
   ]
  },
  {
   "cell_type": "markdown",
   "id": "fc5a1e35-5f98-4bd4-9fd7-21e9e7833561",
   "metadata": {},
   "source": [
    "Q13) Create a code to count the occurrences of each element in a list and return a dictionary with elements as \n",
    "keys and their counts as values"
   ]
  },
  {
   "cell_type": "code",
   "execution_count": 13,
   "id": "4114f9c9-3129-4c02-9860-3654f907b78f",
   "metadata": {},
   "outputs": [
    {
     "name": "stdout",
     "output_type": "stream",
     "text": [
      "{1: 3, 45: 1, 3234: 1, 23: 1, 'Shubham': 2}\n"
     ]
    }
   ],
   "source": [
    "l=[1,1,1,45,3234,23,\"Shubham\",\"Shubham\"]\n",
    "from collections import Counter\n",
    "a=Counter(l)\n",
    "d=dict(a)\n",
    "print(d)"
   ]
  },
  {
   "cell_type": "markdown",
   "id": "82aa9b13-529d-4610-bb55-09a44c1e8957",
   "metadata": {},
   "source": [
    "Q14) Write a code to reverse a list in-place without using any built-in reverse functions"
   ]
  },
  {
   "cell_type": "code",
   "execution_count": 9,
   "id": "9ad4de51-51ec-4f2f-a418-c888d4d6bf73",
   "metadata": {},
   "outputs": [
    {
     "name": "stdout",
     "output_type": "stream",
     "text": [
      "['Singh', 'Kumar', 'Shubham', 3, 2, 1]\n"
     ]
    }
   ],
   "source": [
    "l=[1,2,3,\"Shubham\",\"Kumar\",\"Singh\"]\n",
    "first=0\n",
    "last=len(l)-1\n",
    "while last>=first:\n",
    "    l[first],l[last]=l[last],l[first]\n",
    "    first=first+1\n",
    "    last=last-1\n",
    "print(l)\n",
    "    "
   ]
  },
  {
   "cell_type": "markdown",
   "id": "0f17a5d4-3481-468f-ae1b-8908636974bd",
   "metadata": {},
   "source": [
    "Q15) Implement a code to find and remove duplicates from a list while preserving the original order of \n",
    "elements"
   ]
  },
  {
   "cell_type": "code",
   "execution_count": 12,
   "id": "b3860a9f-ed54-4f86-b56f-5f054d09d13b",
   "metadata": {},
   "outputs": [
    {
     "name": "stdout",
     "output_type": "stream",
     "text": [
      "[1, 21, 212, 12]\n"
     ]
    }
   ],
   "source": [
    "l=[1,1,21,212,12,1,12,21,21]\n",
    "l1=[]\n",
    "for i in l:\n",
    "    if i in l1:\n",
    "        continue\n",
    "    else:\n",
    "        l1.append(i)\n",
    "\n",
    "l=l1\n",
    "print(l)\n"
   ]
  },
  {
   "cell_type": "markdown",
   "id": "6c5e8f51-6f4e-4f16-a397-5f657d5aad1a",
   "metadata": {},
   "source": [
    "Q16) Create a code to check if a given list is sorted (either in ascending or descending order) or not"
   ]
  },
  {
   "cell_type": "code",
   "execution_count": 38,
   "id": "29130ab0-dc68-458e-9062-48f4a8d825c1",
   "metadata": {},
   "outputs": [
    {
     "name": "stdout",
     "output_type": "stream",
     "text": [
      "List is not sorted\n"
     ]
    }
   ],
   "source": [
    "l = [1, 12, 2, 3, 12, 1, 23]\n",
    "l1 = sorted(l) \n",
    "l2 = sorted(l, reverse=True)  \n",
    "if l == l1:\n",
    "    print(\"List is in the sorted form (in ascending)\")\n",
    "elif l == l2:\n",
    "    print(\"List is in the sorted form (in descending)\")\n",
    "else:\n",
    "    print(\"List is not sorted\")\n"
   ]
  },
  {
   "cell_type": "markdown",
   "id": "d849b235-0f44-4ba0-b500-71372e975c4d",
   "metadata": {},
   "source": [
    " Q17) write a code to merge two sorted lists into a single sorted list"
   ]
  },
  {
   "cell_type": "code",
   "execution_count": 41,
   "id": "c611440c-5b96-42fb-8769-abc7b13ee42d",
   "metadata": {},
   "outputs": [
    {
     "name": "stdout",
     "output_type": "stream",
     "text": [
      "[1, 1, 2, 3, 12, 12, 23, 2, 2, 343, 355, 544]\n"
     ]
    }
   ],
   "source": [
    "l1 = [1, 12, 2, 3, 12, 1, 23]\n",
    "l2=[2,2,355,544,343]\n",
    "l1=sorted(l1)\n",
    "l2=sorted(l2)\n",
    "l1.extend(l2)\n",
    "print(l1)\n"
   ]
  },
  {
   "cell_type": "markdown",
   "id": "231c5ae4-61dc-4482-810f-ee68d548d3fd",
   "metadata": {},
   "source": [
    "Q17) Implement a code to find the intersection of two given lists"
   ]
  },
  {
   "cell_type": "code",
   "execution_count": 43,
   "id": "ca62894c-2e4c-46f1-877f-b23a3e4a7fa0",
   "metadata": {},
   "outputs": [
    {
     "name": "stdout",
     "output_type": "stream",
     "text": [
      "[1, 2, 3, 34]\n"
     ]
    }
   ],
   "source": [
    "l1=[1,2,3,4,3,4,3,3,34,32,]\n",
    "l2=[23,23,23,1,2,3,45,5,3,3,34]\n",
    "s1=set(l1)\n",
    "s2=set(l2)\n",
    "l3=[]\n",
    "for i in s1:\n",
    "    if i in s2:\n",
    "        l3.append(i)\n",
    "print(l3)\n"
   ]
  },
  {
   "cell_type": "markdown",
   "id": "a2119745-9112-449a-a2d5-78045e75c573",
   "metadata": {},
   "source": [
    "Q19) Create a code to find the union of two lists without duplicates"
   ]
  },
  {
   "cell_type": "code",
   "execution_count": 45,
   "id": "41e6be07-6c87-48fa-916f-50a938010c75",
   "metadata": {},
   "outputs": [
    {
     "name": "stdout",
     "output_type": "stream",
     "text": [
      "[32, 1, 2, 3, 4, 34, 5, 45, 23]\n"
     ]
    }
   ],
   "source": [
    "l1=[1,2,3,4,3,4,3,3,34,32,]\n",
    "l2=[23,23,23,1,2,3,45,5,3,3,34]\n",
    "s1=set(l1)\n",
    "s2=set(l2)\n",
    "s1.update(s2)\n",
    "l_union=list(s1)\n",
    "print(l_union)\n"
   ]
  },
  {
   "cell_type": "markdown",
   "id": "50707f0f-f20b-4d45-a24f-2b4fff96eefa",
   "metadata": {},
   "source": [
    " Q20) Write a code to shuffle a given list randomly without using any built-in shuffle functions"
   ]
  },
  {
   "cell_type": "code",
   "execution_count": 48,
   "id": "98663696-a65d-40f5-845a-ceb05a390821",
   "metadata": {},
   "outputs": [
    {
     "name": "stdout",
     "output_type": "stream",
     "text": [
      "[1, 1, 12, 12, 2, 23, 3]\n"
     ]
    }
   ],
   "source": [
    "import random\n",
    "\n",
    "def shuffle_list(lst):\n",
    "    n = len(lst)\n",
    "    for i in range(n-1, 0, -1):\n",
    "        j = random.randint(0, i)  \n",
    "        lst[i], lst[j] = lst[j], lst[i]  \n",
    "\n",
    "l = [1, 12, 2, 3, 12, 1, 23]\n",
    "shuffle_list(l)\n",
    "print(l)\n"
   ]
  },
  {
   "cell_type": "code",
   "execution_count": 52,
   "id": "e577a956-c909-47e3-a9ac-75601f3c7e19",
   "metadata": {},
   "outputs": [
    {
     "name": "stdout",
     "output_type": "stream",
     "text": [
      "[3, 1, 12, 12, 2, 1, 23]\n"
     ]
    }
   ],
   "source": [
    "# BY the using of random.shuffle keyword\n",
    "import random\n",
    "l = [1, 12, 2, 3, 12, 1, 23]\n",
    "random.shuffle(l)\n",
    "print(l)"
   ]
  },
  {
   "cell_type": "markdown",
   "id": "1b0423bc-74ba-4c5b-8175-d4d4b13a0d2a",
   "metadata": {},
   "source": [
    " Q21) Write a code that takes two tuples as input and returns a new tuple containing elements that are \n",
    "common to both input tuples"
   ]
  },
  {
   "cell_type": "code",
   "execution_count": 57,
   "id": "5cc91f54-10c4-461f-a467-436c0c3620d2",
   "metadata": {},
   "outputs": [
    {
     "name": "stdout",
     "output_type": "stream",
     "text": [
      "(1, 2, 323)\n"
     ]
    }
   ],
   "source": [
    "t1=(1,2,3,44,5,323)\n",
    "t2=(1,2,434,3221,323)\n",
    "l3=[]\n",
    "s1=set(t1)\n",
    "s2=set(t2)\n",
    "for i in s1:\n",
    "    if i in s2:\n",
    "        l3.append(i)\n",
    "    else:\n",
    "       continue\n",
    "t3=tuple(l3)\n",
    "print(t3)\n",
    "        \n"
   ]
  },
  {
   "cell_type": "markdown",
   "id": "f333d886-a16b-49f3-aa43-a97dc2a22029",
   "metadata": {},
   "source": [
    " Q22) Create a code that prompts the user to enter two sets of integers separated by commas. Then, print the \n",
    "intersection of these two sets"
   ]
  },
  {
   "cell_type": "code",
   "execution_count": 5,
   "id": "c282f0e7-cfb5-4662-9643-85995c96b9c1",
   "metadata": {},
   "outputs": [
    {
     "name": "stdin",
     "output_type": "stream",
     "text": [
      "Enter the number 1: 1,2,3\n",
      "Enter the number 2: 2,3\n"
     ]
    },
    {
     "name": "stdout",
     "output_type": "stream",
     "text": [
      "{2, 3}\n"
     ]
    }
   ],
   "source": [
    "a=input(\"Enter the number 1:\")\n",
    "set1=set(map(int, a.split(',')))\n",
    "\n",
    "b=input(\"Enter the number 2:\")\n",
    "set2=set(map(int, b.split(',')))\n",
    "\n",
    "interSec=set1.intersection(set2)\n",
    "print(interSec)\n",
    "\n"
   ]
  },
  {
   "cell_type": "markdown",
   "id": "5e5f1770-2a64-4c21-9d80-3ee20e02bf68",
   "metadata": {},
   "source": [
    "Q23) Write a code to concatenate two tuples. The function should take two tuples as input and return a new \n",
    "tuple containing elements from both input tuples."
   ]
  },
  {
   "cell_type": "code",
   "execution_count": 2,
   "id": "3b0035ec-77f3-4d9f-a995-6561719d431a",
   "metadata": {},
   "outputs": [
    {
     "data": {
      "text/plain": [
       "(1, 2, 3, 4, 5, 6, 7, 8, 9, 10)"
      ]
     },
     "execution_count": 2,
     "metadata": {},
     "output_type": "execute_result"
    }
   ],
   "source": [
    "def concat(t1,t2):\n",
    "    return (t1+t2)\n",
    "\n",
    "t1=(1,2,3,4,5)\n",
    "t2=(6,7,8,9,10)\n",
    "concat(t1,t2)\n"
   ]
  },
  {
   "cell_type": "markdown",
   "id": "68eb4874-20cc-4922-b45b-315afb593afc",
   "metadata": {},
   "source": [
    "Q 24) Develop a code that prompts the user to input two sets of strings. Then, print the elements that are \n",
    "present in the first set but not in the second set"
   ]
  },
  {
   "cell_type": "code",
   "execution_count": null,
   "id": "177726ee-5407-4748-84e0-9d8f2551a2d0",
   "metadata": {},
   "outputs": [],
   "source": [
    "def get_set_input(prompt):\n",
    "    \n",
    "    user_input = input(prompt)\n",
    "    \n",
    "    input_set = set(user_input.split())\n",
    "    return input_set\n",
    "\n",
    "\n",
    "set1 = get_set_input(\"Enter the first set of strings (separated by spaces): \")\n",
    "set2 = get_set_input(\"Enter the second set of strings (separated by spaces): \")\n",
    "\n",
    "\n",
    "difference_set = set1 - set2\n",
    "\n",
    "# Print the result\n",
    "print(\"Elements present in the first set but not in the second set:\", difference_set)\n"
   ]
  },
  {
   "cell_type": "markdown",
   "id": "6968d2c0-7417-43e8-b8a1-20229e3e77ec",
   "metadata": {},
   "source": [
    "25)Create a code that takes a tuple and two integers as input. The function should return a new tuple \n",
    "containing elements from the original tuple within the specified range of indices"
   ]
  },
  {
   "cell_type": "code",
   "execution_count": 1,
   "id": "bfb992ba-a3fb-4b44-96f7-e5f63f09d9fc",
   "metadata": {},
   "outputs": [
    {
     "name": "stdout",
     "output_type": "stream",
     "text": [
      "(20, 30, 40)\n"
     ]
    }
   ],
   "source": [
    "def slice_tuple(tpl, start_idx, end_idx):\n",
    "    return tpl[start_idx:end_idx]\n",
    "\n",
    "\n",
    "original_tuple = (10, 20, 30, 40, 50, 60)\n",
    "start = 1\n",
    "end = 4\n",
    "new_tuple = slice_tuple(original_tuple, start, end)\n",
    "print(new_tuple)  \n"
   ]
  },
  {
   "cell_type": "markdown",
   "id": "96d02ebf-a869-45ea-a26e-947e6388a192",
   "metadata": {},
   "source": [
    "26) Write a code that prompts the user to input two sets of characters. Then, print the union of these two sets&"
   ]
  },
  {
   "cell_type": "code",
   "execution_count": 2,
   "id": "bcf5a467-b184-4149-9ebf-b0f90bdb7b1c",
   "metadata": {},
   "outputs": [
    {
     "name": "stdin",
     "output_type": "stream",
     "text": [
      "Enter the first set of characters (without spaces):  shubham\n",
      "Enter the second set of characters (without spaces):  kumar\n"
     ]
    },
    {
     "name": "stdout",
     "output_type": "stream",
     "text": [
      "The union of the two sets is: {'b', 'a', 'm', 'k', 'h', 's', 'r', 'u'}\n"
     ]
    }
   ],
   "source": [
    "\n",
    "set1 = set(input(\"Enter the first set of characters (without spaces): \"))\n",
    "\n",
    "set2 = set(input(\"Enter the second set of characters (without spaces): \"))\n",
    "union_set = set1.union(set2)\n",
    "print(\"The union of the two sets is:\", union_set)\n"
   ]
  },
  {
   "cell_type": "markdown",
   "id": "205aaa37-3067-42b3-8bf7-e3ef4d190e87",
   "metadata": {},
   "source": [
    "27) Develop a code that takes a tuple of integers as input. The function should return the maximum and \n",
    "minimum values from the tuple using tuple unpacking"
   ]
  },
  {
   "cell_type": "code",
   "execution_count": 3,
   "id": "d3246e1b-d666-41af-af87-c12ebb33c859",
   "metadata": {},
   "outputs": [
    {
     "name": "stdout",
     "output_type": "stream",
     "text": [
      "Maximum value: 9\n",
      "Minimum value: 1\n"
     ]
    }
   ],
   "source": [
    "def find_max_min(tpl):\n",
    "    max_val = max(tpl)\n",
    "    min_val = min(tpl)\n",
    "    \n",
    "    return max_val, min_val\n",
    "\n",
    "numbers = (3, 1, 4, 1, 5, 9, 2, 6, 5)\n",
    "max_value, min_value = find_max_min(numbers)\n",
    "print(\"Maximum value:\", max_value)\n",
    "print(\"Minimum value:\", min_value)\n"
   ]
  },
  {
   "cell_type": "markdown",
   "id": "ebd8c7ed-bc79-4454-8c0a-12aad12e2b3e",
   "metadata": {},
   "source": [
    "28)Create a code that defines two sets of integers. Then, print the union, intersection, and difference of these \n",
    "two sets"
   ]
  },
  {
   "cell_type": "code",
   "execution_count": 4,
   "id": "d02cfc13-c322-4b97-83fe-f311cf043a26",
   "metadata": {},
   "outputs": [
    {
     "name": "stdout",
     "output_type": "stream",
     "text": [
      "Union of set1 and set2: {1, 2, 3, 4, 5, 6, 7, 8}\n",
      "Intersection of set1 and set2: {4, 5}\n",
      "Difference of set1 and set2 (set1 - set2): {1, 2, 3}\n"
     ]
    }
   ],
   "source": [
    "set1 = {1, 2, 3, 4, 5}\n",
    "\n",
    "set2 = {4, 5, 6, 7, 8}\n",
    "\n",
    "union_set = set1.union(set2)\n",
    "\n",
    "intersection_set = set1.intersection(set2)\n",
    "\n",
    "difference_set = set1.difference(set2)\n",
    "\n",
    "print(\"Union of set1 and set2:\", union_set)\n",
    "print(\"Intersection of set1 and set2:\", intersection_set)\n",
    "print(\"Difference of set1 and set2 (set1 - set2):\", difference_set)\n"
   ]
  },
  {
   "cell_type": "markdown",
   "id": "ad979c7b-6fb1-45db-be69-b9c5bc7eed04",
   "metadata": {},
   "source": [
    "29)Write a code that takes a tuple and an element as input. The function should return the count of \n",
    "occurrences of the given element in the tuple&"
   ]
  },
  {
   "cell_type": "code",
   "execution_count": 5,
   "id": "83e9853d-2c83-4004-8aae-6cb763206d66",
   "metadata": {},
   "outputs": [
    {
     "name": "stdout",
     "output_type": "stream",
     "text": [
      "The element 2 occurs 4 times in the tuple.\n"
     ]
    }
   ],
   "source": [
    "def count_element(tpl, element):\n",
    "    return tpl.count(element)\n",
    "\n",
    "numbers = (1, 2, 3, 4, 2, 5, 2, 6, 2)\n",
    "element_to_count = 2\n",
    "count = count_element(numbers, element_to_count)\n",
    "print(f\"The element {element_to_count} occurs {count} times in the tuple.\")\n"
   ]
  },
  {
   "cell_type": "markdown",
   "id": "ae41f143-f9f4-4a16-878e-60c4bbfb3691",
   "metadata": {},
   "source": [
    "30)Develop a code that prompts the user to input two sets of strings. Then, print the symmetric difference of \n",
    "these two sets"
   ]
  },
  {
   "cell_type": "code",
   "execution_count": 6,
   "id": "68634cbc-051f-4dc8-9669-acb9c1862d75",
   "metadata": {},
   "outputs": [
    {
     "name": "stdin",
     "output_type": "stream",
     "text": [
      "Enter the first set of strings (separate each string with a space):  shubham\n",
      "Enter the second set of strings (separate each string with a space):  singh\n"
     ]
    },
    {
     "name": "stdout",
     "output_type": "stream",
     "text": [
      "The symmetric difference of the two sets is: {'singh', 'shubham'}\n"
     ]
    }
   ],
   "source": [
    "set1 = set(input(\"Enter the first set of strings (separate each string with a space): \").split())\n",
    "\n",
    "set2 = set(input(\"Enter the second set of strings (separate each string with a space): \").split())\n",
    "\n",
    "symmetric_difference_set = set1.symmetric_difference(set2)\n",
    "\n",
    "print(\"The symmetric difference of the two sets is:\", symmetric_difference_set)\n"
   ]
  },
  {
   "cell_type": "markdown",
   "id": "7b75f355-d8da-48ef-8da4-8ceb8476bc15",
   "metadata": {},
   "source": [
    "31) Write a code that takes a list of words as input and returns a dictionary where the keys are unique words \n",
    "and the values are the frequencies of those words in the input list"
   ]
  },
  {
   "cell_type": "code",
   "execution_count": 8,
   "id": "6952aa36-b2d6-4d45-ae8a-46ecb50a37ce",
   "metadata": {},
   "outputs": [
    {
     "name": "stdin",
     "output_type": "stream",
     "text": [
      "Enter a list of words separated by spaces:  hii my name is shubham singh ranjput\n"
     ]
    },
    {
     "name": "stdout",
     "output_type": "stream",
     "text": [
      "Word frequencies: {'hii': 1, 'my': 1, 'name': 1, 'is': 1, 'shubham': 1, 'singh': 1, 'ranjput': 1}\n"
     ]
    }
   ],
   "source": [
    "def word_frequencies(words):\n",
    "    frequency_dict = {}\n",
    "    \n",
    "    for word in words:\n",
    "        if word in frequency_dict:\n",
    "            frequency_dict[word] += 1\n",
    "        else:\n",
    "            frequency_dict[word] = 1\n",
    "    \n",
    "    return frequency_dict\n",
    "\n",
    "word_list = input(\"Enter a list of words separated by spaces: \").split()\n",
    "frequencies = word_frequencies(word_list)\n",
    "print(\"Word frequencies:\", frequencies)\n"
   ]
  },
  {
   "cell_type": "code",
   "execution_count": null,
   "id": "0772bd85-b0df-40f0-a164-a2e3bfc2f777",
   "metadata": {},
   "outputs": [],
   "source": [
    "32) Write a code that takes two dictionaries as input and merges them into a single dictionary. If there are \n",
    "common keys, the values should be added together"
   ]
  },
  {
   "cell_type": "code",
   "execution_count": 18,
   "id": "c60f6e42-a2cd-4054-ba0d-8b8a8b39c8fc",
   "metadata": {},
   "outputs": [
    {
     "name": "stdout",
     "output_type": "stream",
     "text": [
      "Merged dictionary: {'a': 10, 'b': 25, 'c': 45, 'd': 25}\n"
     ]
    }
   ],
   "source": [
    "def merge_dictionaries(dict1, dict2):\n",
    "    # Initialize merged_dict with a copy of dict1\n",
    "    merged_dict = dict1.copy()\n",
    "\n",
    "    # Iterate through the second dictionary\n",
    "    for key, value in dict2.items():\n",
    "        if key in merged_dict:\n",
    "            merged_dict[key] += value  # Add values if the key is common\n",
    "        else:\n",
    "            merged_dict[key] = value  # Add the key-value pair if key is not in dict1\n",
    "\n",
    "    return merged_dict\n",
    "\n",
    "# Example usage:\n",
    "dict1 = {'a': 10, 'b': 20, 'c': 30}\n",
    "dict2 = {'b': 5, 'c': 15, 'd': 25}\n",
    "\n",
    "merged_dict = merge_dictionaries(dict1, dict2)\n",
    "print(\"Merged dictionary:\", merged_dict)\n"
   ]
  },
  {
   "cell_type": "markdown",
   "id": "893ba6a6-e55f-4e79-ae90-f5d22fd3cde5",
   "metadata": {},
   "source": [
    "33) Write a code to access a value in a nested dictionary. The function should take the dictionary and a list of \n",
    "keys as input, and return the corresponding value. If any of the keys do not exist in the dictionary, the \n",
    "function should return None"
   ]
  },
  {
   "cell_type": "code",
   "execution_count": 19,
   "id": "b095c9af-a9da-4afb-a7cb-d3cc69187310",
   "metadata": {},
   "outputs": [
    {
     "name": "stdout",
     "output_type": "stream",
     "text": [
      "The value is: 10\n",
      "The value is: None\n"
     ]
    }
   ],
   "source": [
    "def access_nested_value(d, keys):\n",
    "    \n",
    "    current = d\n",
    "    for key in keys:\n",
    "        if isinstance(current, dict) and key in current:\n",
    "            current = current[key]\n",
    "        else:\n",
    "            return None\n",
    "    return current\n",
    "\n",
    "# Example usage:\n",
    "nested_dict = {\n",
    "    'a': {\n",
    "        'b': {\n",
    "            'c': 10\n",
    "        }\n",
    "    }\n",
    "}\n",
    "keys = ['a', 'b', 'c']\n",
    "value = access_nested_value(nested_dict, keys)\n",
    "print(\"The value is:\", value)  # Output: The value is: 10\n",
    "\n",
    "# Test with non-existing key\n",
    "keys_invalid = ['a', 'b', 'd']\n",
    "value_invalid = access_nested_value(nested_dict, keys_invalid)\n",
    "print(\"The value is:\", value_invalid)  # Output: The value is: None\n"
   ]
  },
  {
   "cell_type": "markdown",
   "id": "bf8cb398-b8e4-4619-91c3-7c7c7f7d287e",
   "metadata": {},
   "source": [
    "34) Write a code that takes a dictionary as input and returns a sorted version of it based on the values. You \n",
    "can choose whether to sort in ascending or descending order"
   ]
  },
  {
   "cell_type": "code",
   "execution_count": 20,
   "id": "c0c7ca64-03d9-4054-b35e-7f4e49fbe2a0",
   "metadata": {},
   "outputs": [
    {
     "name": "stdout",
     "output_type": "stream",
     "text": [
      "Sorted dictionary (ascending): {'banana': 2, 'apple': 5, 'cherry': 7}\n",
      "Sorted dictionary (descending): {'cherry': 7, 'apple': 5, 'banana': 2}\n"
     ]
    }
   ],
   "source": [
    "def sort_dict_by_value(d, descending=False):\n",
    "    \n",
    "    # Sort the dictionary by values\n",
    "    sorted_dict = dict(sorted(d.items(), key=lambda item: item[1], reverse=descending))\n",
    "    \n",
    "    return sorted_dict\n",
    "\n",
    "# Example usage:\n",
    "sample_dict = {'apple': 5, 'banana': 2, 'cherry': 7}\n",
    "\n",
    "# Sort in ascending order\n",
    "sorted_dict_asc = sort_dict_by_value(sample_dict)\n",
    "print(\"Sorted dictionary (ascending):\", sorted_dict_asc)  # Output: {'banana': 2, 'apple': 5, 'cherry': 7}\n",
    "\n",
    "# Sort in descending order\n",
    "sorted_dict_desc = sort_dict_by_value(sample_dict, descending=True)\n",
    "print(\"Sorted dictionary (descending):\", sorted_dict_desc)  # Output: {'cherry': 7, 'apple': 5, 'banana': 2}\n"
   ]
  },
  {
   "cell_type": "markdown",
   "id": "4ab0cb26-02e1-4415-b942-a12bca879835",
   "metadata": {},
   "source": [
    "35) Write a code that inverts a dictionary, swapping keys and values. Ensure that the inverted dictionary \n",
    "correctly handles cases where multiple keys have the same value by storing the keys as a list in the \n",
    "inverted dictionary."
   ]
  },
  {
   "cell_type": "code",
   "execution_count": 21,
   "id": "2d7d89f7-063b-491b-b256-b7615c85429c",
   "metadata": {},
   "outputs": [
    {
     "name": "stdout",
     "output_type": "stream",
     "text": [
      "Inverted dictionary: {1: ['a', 'c'], 2: ['b'], 3: ['d']}\n"
     ]
    }
   ],
   "source": [
    "def invert_dictionary(d):\n",
    "    \n",
    "    inverted_dict = {}\n",
    "\n",
    "    for key, value in d.items():\n",
    "        if value in inverted_dict:\n",
    "            # Append to the list of keys for this value\n",
    "            inverted_dict[value].append(key)\n",
    "        else:\n",
    "            # Create a new list with the current key\n",
    "            inverted_dict[value] = [key]\n",
    "    \n",
    "    return inverted_dict\n",
    "\n",
    "# Example usage:\n",
    "original_dict = {'a': 1, 'b': 2, 'c': 1, 'd': 3}\n",
    "inverted_dict = invert_dictionary(original_dict)\n",
    "print(\"Inverted dictionary:\", inverted_dict)\n"
   ]
  },
  {
   "cell_type": "code",
   "execution_count": null,
   "id": "77064a3b-c44b-4c4a-9492-985005c4b6f9",
   "metadata": {},
   "outputs": [],
   "source": []
  }
 ],
 "metadata": {
  "kernelspec": {
   "display_name": "Python 3 (ipykernel)",
   "language": "python",
   "name": "python3"
  },
  "language_info": {
   "codemirror_mode": {
    "name": "ipython",
    "version": 3
   },
   "file_extension": ".py",
   "mimetype": "text/x-python",
   "name": "python",
   "nbconvert_exporter": "python",
   "pygments_lexer": "ipython3",
   "version": "3.11.7"
  }
 },
 "nbformat": 4,
 "nbformat_minor": 5
}
